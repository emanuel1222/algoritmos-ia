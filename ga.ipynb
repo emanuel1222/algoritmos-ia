{
 "cells": [
  {
   "cell_type": "code",
   "execution_count": null,
   "metadata": {},
   "outputs": [],
   "source": [
    "##IMPORTAÇÕES\n",
    "# Manipulação de dados\n",
    "import numpy as np\n",
    "import pandas as pd\n",
    "\n",
    "# Geração de números aleatórios\n",
    "import random"
   ]
  }
 ],
 "metadata": {
  "kernelspec": {
   "display_name": "Python 3.10.8 64-bit",
   "language": "python",
   "name": "python3"
  },
  "language_info": {
   "name": "python",
   "version": "3.10.8"
  },
  "orig_nbformat": 4,
  "vscode": {
   "interpreter": {
    "hash": "cadfa1519530ae32c5d6f978d01d360ed8a3d8e4ca2620c245e877c4540c6987"
   }
  }
 },
 "nbformat": 4,
 "nbformat_minor": 2
}
